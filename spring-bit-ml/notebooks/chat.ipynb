{
 "cells": [
  {
   "cell_type": "code",
   "id": "initial_id",
   "metadata": {
    "collapsed": true,
    "ExecuteTime": {
     "end_time": "2025-03-13T11:48:29.445552Z",
     "start_time": "2025-03-13T11:48:29.105686Z"
    }
   },
   "source": [
    "import os\n",
    "import openai\n",
    "\n",
    "from dotenv import load_dotenv, find_dotenv\n",
    "from langchain_core.messages.tool import tool_call\n",
    "\n",
    "_ = load_dotenv(find_dotenv()) # read local .env file\n",
    "openai.api_key = os.environ['OPENAI_API_KEY']"
   ],
   "outputs": [],
   "execution_count": 3
  },
  {
   "metadata": {
    "ExecuteTime": {
     "end_time": "2025-03-13T11:50:53.262972Z",
     "start_time": "2025-03-13T11:50:53.257086Z"
    }
   },
   "cell_type": "code",
   "source": [
    "from crypto.statistics.CryptoSeries import CryptoSeries\n",
    "from crypto.dto.types import CryptoInfoRequest\n",
    "from langchain.agents import tool\n",
    "from datetime import datetime\n",
    "\n",
    "@tool(args_schema=CryptoInfoRequest)\n",
    "def crypto_correlation(symbols: list, start_date: datetime, end_date: datetime):\n",
    "    \"\"\"Returns a correlation matrix for the given list of symbols and between start_date and end_date\"\"\"\n",
    "    return CryptoSeries.get().correlation(symbols, start_date, end_date)\n",
    "\n",
    "crypto_correlation"
   ],
   "id": "a4d2c75f06d4f3ad",
   "outputs": [
    {
     "data": {
      "text/plain": [
       "StructuredTool(name='crypto_correlation', description='Returns a correlation matrix for the given list of symbols and between start_date and end_date', args_schema=<class 'crypto.dto.types.CryptoInfoRequest'>, func=<function crypto_correlation at 0x793bf7f3edd0>)"
      ]
     },
     "execution_count": 10,
     "metadata": {},
     "output_type": "execute_result"
    }
   ],
   "execution_count": 10
  },
  {
   "metadata": {
    "ExecuteTime": {
     "end_time": "2025-03-13T11:50:58.963045Z",
     "start_time": "2025-03-13T11:50:58.860577Z"
    }
   },
   "cell_type": "code",
   "source": [
    "from langchain_openai import ChatOpenAI\n",
    "from langchain.tools.render import format_tool_to_openai_function\n",
    "\n",
    "functions = [\n",
    "    format_tool_to_openai_function(f) for f in [\n",
    "        crypto_correlation\n",
    "    ]\n",
    "]\n",
    "model = ChatOpenAI(temperature=0).bind(functions=functions)\n",
    "\n",
    "functions"
   ],
   "id": "a1e6f6a45762d463",
   "outputs": [
    {
     "data": {
      "text/plain": [
       "[{'name': 'crypto_correlation',\n",
       "  'description': 'Returns a correlation matrix for the given list of symbols and between start_date and end_date',\n",
       "  'parameters': {'properties': {'start_date': {'description': 'Start date timestamp in format: yyyy-MM-ddTHH:mm:ssZ',\n",
       "     'format': 'date-time',\n",
       "     'type': 'string'},\n",
       "    'end_date': {'description': 'End date timestamp in format: yyyy-MM-ddTHH:mm:ssZ',\n",
       "     'format': 'date-time',\n",
       "     'type': 'string'},\n",
       "    'symbols': {'description': 'List of crypto symbols like BTC, ETH',\n",
       "     'items': {'type': 'string'},\n",
       "     'type': 'array'}},\n",
       "   'required': ['start_date', 'end_date', 'symbols'],\n",
       "   'type': 'object'}}]"
      ]
     },
     "execution_count": 11,
     "metadata": {},
     "output_type": "execute_result"
    }
   ],
   "execution_count": 11
  },
  {
   "metadata": {
    "ExecuteTime": {
     "end_time": "2025-03-13T13:15:28.402321Z",
     "start_time": "2025-03-13T13:15:26.882479Z"
    }
   },
   "cell_type": "code",
   "source": [
    "from langchain.prompts import ChatPromptTemplate\n",
    "from langchain.prompts import MessagesPlaceholder\n",
    "\n",
    "prompt = ChatPromptTemplate.from_messages([\n",
    "    (\"system\", \"You are helpful but sassy assistant with crypto knowledge\"),\n",
    "    MessagesPlaceholder(variable_name=\"chat_history\"),\n",
    "    (\"user\", \"{input}\"),\n",
    "    MessagesPlaceholder(variable_name=\"agent_scratchpad\")\n",
    "])\n",
    "chain = prompt | model\n",
    "\n",
    "chain.invoke({\n",
    "    \"chat_history\": [],\n",
    "    \"input\": \"what is the best crypto to invest?\",\n",
    "    \"agent_scratchpad\": []})"
   ],
   "id": "354008a4dc425f8b",
   "outputs": [
    {
     "data": {
      "text/plain": [
       "AIMessage(content=\"I'm here to provide information and guidance, but I can't give financial advice or predict the future. The best crypto to invest in depends on various factors such as your investment goals, risk tolerance, and market research. It's important to do your own research, consider the potential risks and rewards, and make informed decisions based on your own financial situation. If you're looking for specific information or analysis on cryptocurrencies, feel free to ask!\", additional_kwargs={'refusal': None}, response_metadata={'token_usage': {'completion_tokens': 90, 'prompt_tokens': 143, 'total_tokens': 233, 'completion_tokens_details': {'accepted_prediction_tokens': 0, 'audio_tokens': 0, 'reasoning_tokens': 0, 'rejected_prediction_tokens': 0}, 'prompt_tokens_details': {'audio_tokens': 0, 'cached_tokens': 0}}, 'model_name': 'gpt-3.5-turbo-0125', 'system_fingerprint': None, 'finish_reason': 'stop', 'logprobs': None}, id='run-e3666a67-dad4-43d0-8d24-26f97aed19c5-0', usage_metadata={'input_tokens': 143, 'output_tokens': 90, 'total_tokens': 233, 'input_token_details': {'audio': 0, 'cache_read': 0}, 'output_token_details': {'audio': 0, 'reasoning': 0}})"
      ]
     },
     "execution_count": 15,
     "metadata": {},
     "output_type": "execute_result"
    }
   ],
   "execution_count": 15
  },
  {
   "metadata": {
    "ExecuteTime": {
     "end_time": "2025-03-13T13:16:00.089996Z",
     "start_time": "2025-03-13T13:15:58.539170Z"
    }
   },
   "cell_type": "code",
   "source": [
    "from langchain.agents.output_parsers import OpenAIFunctionsAgentOutputParser\n",
    "\n",
    "chain = prompt | model | OpenAIFunctionsAgentOutputParser()\n",
    "\n",
    "result = chain.invoke({\n",
    "    \"chat_history\": [],\n",
    "    \"input\": \"what is the correlation between bitcoin and ethereum last year?\",\n",
    "    \"agent_scratchpad\": []\n",
    "})\n",
    "\n",
    "print(f\"{result.tool}  {result.tool_input}\")"
   ],
   "id": "4a04f215a78640ba",
   "outputs": [
    {
     "name": "stdout",
     "output_type": "stream",
     "text": [
      "crypto_correlation  {'start_date': '2021-01-01T00:00:00Z', 'end_date': '2021-12-31T23:59:59Z', 'symbols': ['BTC', 'ETH']}\n"
     ]
    }
   ],
   "execution_count": 16
  },
  {
   "metadata": {
    "ExecuteTime": {
     "end_time": "2025-03-13T13:26:35.414721Z",
     "start_time": "2025-03-13T13:26:31.116284Z"
    }
   },
   "cell_type": "code",
   "source": [
    "from langchain.schema.agent import AgentFinish\n",
    "from langchain.schema.runnable import RunnablePassthrough\n",
    "from langchain.agents.format_scratchpad import format_to_openai_functions\n",
    "from langchain.memory import ConversationBufferMemory\n",
    "\n",
    "\n",
    "agent_chain = RunnablePassthrough.assign(\n",
    "    agent_scratchpad= lambda x: format_to_openai_functions(x[\"intermediate_steps\"])\n",
    ") | chain\n",
    "\n",
    "def run_agent(user_input, memory):\n",
    "    intermediate_steps = []\n",
    "    while True:\n",
    "        result = agent_chain.invoke({\n",
    "            \"chat_history\": memory,\n",
    "            \"input\": user_input,\n",
    "            \"intermediate_steps\": intermediate_steps\n",
    "        })\n",
    "        if isinstance(result, AgentFinish):\n",
    "            return result\n",
    "        tool_to_run = {\n",
    "            \"crypto_correlation\": crypto_correlation\n",
    "        }[result.tool]\n",
    "        observation = tool_to_run.run(result.tool_input)\n",
    "        intermediate_steps.append((result, observation))\n",
    "\n",
    "\n",
    "memory = []\n",
    "msg = \"what is the correlation between bitcoin and ethereum last year?\"\n",
    "reply = run_agent(msg, memory)\n",
    "reply = reply.return_values['output']\n",
    "print(reply)\n",
    "memory += [msg, reply]\n",
    "\n",
    "msg = \"my name is bob\"\n",
    "reply = run_agent(msg, memory)\n",
    "reply = reply.return_values['output']\n",
    "print(reply)\n",
    "memory += [msg, reply]\n",
    "\n",
    "msg = \"what is my name and correlations for btc and eth you computed?\"\n",
    "reply = run_agent(msg, memory)\n",
    "reply = reply.return_values['output']\n",
    "print(reply)\n",
    "memory += [msg, reply]"
   ],
   "id": "728139a42ce43f2b",
   "outputs": [
    {
     "name": "stdout",
     "output_type": "stream",
     "text": [
      "The correlation between Bitcoin (BTC) and Ethereum (ETH) last year was approximately 0.76. This indicates a strong positive correlation between the two cryptocurrencies during that period.\n",
      "Hello Bob! How can I assist you today?\n",
      "Your name is Bob. \n",
      "\n",
      "The correlation between Bitcoin (BTC) and Ethereum (ETH) that I computed is approximately 0.76. This indicates a strong positive correlation between the two cryptocurrencies during the specified time period.\n"
     ]
    }
   ],
   "execution_count": 26
  },
  {
   "metadata": {},
   "cell_type": "code",
   "outputs": [],
   "execution_count": null,
   "source": "",
   "id": "3bbd3d796a432f32"
  }
 ],
 "metadata": {
  "kernelspec": {
   "display_name": "Python 3",
   "language": "python",
   "name": "python3"
  },
  "language_info": {
   "codemirror_mode": {
    "name": "ipython",
    "version": 2
   },
   "file_extension": ".py",
   "mimetype": "text/x-python",
   "name": "python",
   "nbconvert_exporter": "python",
   "pygments_lexer": "ipython2",
   "version": "2.7.6"
  }
 },
 "nbformat": 4,
 "nbformat_minor": 5
}
