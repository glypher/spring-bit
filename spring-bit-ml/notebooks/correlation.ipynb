{
 "cells": [
  {
   "metadata": {
    "ExecuteTime": {
     "end_time": "2025-03-11T01:50:03.304901Z",
     "start_time": "2025-03-11T01:50:01.405062Z"
    }
   },
   "cell_type": "code",
   "source": [
    "!pip install scipy --quiet\n",
    "!pip install yfinance --quiet\n",
    "\n",
    "import pandas as pd\n",
    "import numpy as np\n",
    "from datetime import datetime\n",
    "from scipy.stats import linregress\n",
    "\n",
    "SYMBOL = 'btc'\n",
    "\n",
    "CRYPTOS = {\n",
    "    'BITCOIN': 'BTC',\n",
    "    'ETHEREUM': 'ETH',\n",
    "    'TETHER': 'USDT',\n",
    "    'RIPPLE': 'XRP',\n",
    "    'SOLANA': 'SOL',\n",
    "    'CARDANO': 'ADA',\n",
    "    'POLKADOT': 'DOT',\n",
    "    'DOGECOIN': 'DOGE',\n",
    "    'PEPE': 'PEPE',\n",
    "}"
   ],
   "id": "af06cd8e639453e1",
   "outputs": [],
   "execution_count": 5
  },
  {
   "metadata": {
    "ExecuteTime": {
     "end_time": "2025-03-11T01:50:03.476577Z",
     "start_time": "2025-03-11T01:50:03.320899Z"
    }
   },
   "cell_type": "code",
   "source": [
    "df_all = {}\n",
    "for name, symbol in CRYPTOS.items():\n",
    "    df_all[symbol] = pd.read_csv(f'../data/{symbol}.csv', dtype=str)\n",
    "    df = df_all[symbol]\n",
    "    df['Date'] = pd.to_datetime(df[\"Date\"])\n",
    "    df['Open'] = df['Open'].str.replace(',', '').astype(float)\n",
    "    df['Low'] = df['Low'].str.replace(',', '').astype(float)\n",
    "    df['High'] = df['High'].str.replace(',', '').astype(float)\n",
    "    df['Change %'] = df['Change %'].str.rstrip(\"%\").astype(float)\n",
    "\n",
    "    df = df[df['Date'] > datetime.strptime('2017-01-01', \"%Y-%m-%d\")]\n",
    "    df_all[symbol] = df"
   ],
   "id": "28f6c999177785fb",
   "outputs": [],
   "execution_count": 6
  },
  {
   "metadata": {
    "ExecuteTime": {
     "end_time": "2025-03-11T01:50:03.514668Z",
     "start_time": "2025-03-11T01:50:03.509601Z"
    }
   },
   "cell_type": "code",
   "source": [
    "\n",
    "full_range = pd.date_range(start='01.01.2024', end='31.12.2024')"
   ],
   "id": "1f0cd9728307424a",
   "outputs": [],
   "execution_count": 7
  },
  {
   "metadata": {
    "ExecuteTime": {
     "end_time": "2025-03-11T02:09:24.443528Z",
     "start_time": "2025-03-11T02:09:24.419575Z"
    }
   },
   "cell_type": "code",
   "source": [
    "# Select past year\n",
    "change = []\n",
    "missing = []\n",
    "df_range = {}\n",
    "for symbol, df in df_all.items():\n",
    "    df = df[(df['Date'] >= '01.01.2024') & (df['Date'] <= '31.12.2024')]\n",
    "\n",
    "    missing += full_range.difference(df['Date']).to_list()\n",
    "    df_range[symbol] = df\n",
    "\n",
    "\n",
    "for symbol, df in df_range.items():\n",
    "    df = df[~df['Date'].isin(missing)]\n",
    "    change.append(df['Change %'].to_numpy())\n",
    "\n",
    "data = np.vstack(change)\n",
    "\n",
    "# Compute correlation matrix\n",
    "corr_matrix = np.corrcoef(data)\n",
    "\n",
    "\n",
    "\n",
    "# Print result\n",
    "print(\"Correlation Matrix:\")\n",
    "print(corr_matrix)\n",
    "\n",
    "\n",
    "\n",
    "\n",
    "#    if len(df) > 300:\n",
    "#        change.append(df['Change %'].to_numpy())\n",
    "#        print(symbol)\n",
    "#        print(change[-1].shape)\n",
    "#change = np.stack(change)"
   ],
   "id": "43cb22e88f30f658",
   "outputs": [
    {
     "name": "stdout",
     "output_type": "stream",
     "text": [
      "Correlation Matrix:\n",
      "[[1.         0.79505549 0.33089868 0.44263643 0.74551913 0.65605981\n",
      "  0.62547891 0.77321713 0.62642097]\n",
      " [0.79505549 1.         0.20724466 0.43143036 0.6951207  0.6610017\n",
      "  0.68786355 0.65824515 0.60191349]\n",
      " [0.33089868 0.20724466 1.         0.04322663 0.19987266 0.17953618\n",
      "  0.16611582 0.21506313 0.14247654]\n",
      " [0.44263643 0.43143036 0.04322663 1.         0.38972028 0.62254843\n",
      "  0.57846835 0.43852027 0.31838456]\n",
      " [0.74551913 0.6951207  0.19987266 0.38972028 1.         0.63151828\n",
      "  0.63987074 0.62622369 0.54686052]\n",
      " [0.65605981 0.6610017  0.17953618 0.62254843 0.63151828 1.\n",
      "  0.79908135 0.65396788 0.48361401]\n",
      " [0.62547891 0.68786355 0.16611582 0.57846835 0.63987074 0.79908135\n",
      "  1.         0.63436737 0.49477899]\n",
      " [0.77321713 0.65824515 0.21506313 0.43852027 0.62622369 0.65396788\n",
      "  0.63436737 1.         0.65558391]\n",
      " [0.62642097 0.60191349 0.14247654 0.31838456 0.54686052 0.48361401\n",
      "  0.49477899 0.65558391 1.        ]]\n"
     ]
    }
   ],
   "execution_count": 18
  },
  {
   "metadata": {
    "ExecuteTime": {
     "end_time": "2025-03-10T16:05:23.170779Z",
     "start_time": "2025-03-10T16:05:19.163760Z"
    }
   },
   "cell_type": "code",
   "source": [
    "import yfinance as yf\n",
    "import pandas as pd\n",
    "import time\n",
    "\n",
    "# Define cryptocurrency symbols\n",
    "CRYPTOS = {\n",
    "    'BITCOIN': 'BTC-USD',\n",
    "    'ETHEREUM': 'ETH-USD',\n",
    "    'TETHER': 'USDT-USD',\n",
    "    'RIPPLE': 'XRP-USD',\n",
    "    'SOLANA': 'SOL-USD',\n",
    "    'CARDANO': 'ADA-USD',\n",
    "    'POLKADOT': 'DOT-USD',\n",
    "    'DOGECOIN': 'DOGE-USD',\n",
    "    'PEPE': 'PEPE-USD',\n",
    "}\n",
    "\n",
    "# Define time period\n",
    "start_date = \"2024-01-01\"\n",
    "end_date = \"2024-03-10\"\n",
    "\n",
    "# Download all tickers at once (to reduce requests)\n",
    "tickers = list(CRYPTOS.values())\n",
    "\n",
    "# Handle rate limit errors\n",
    "attempts = 3\n",
    "for i in range(attempts):\n",
    "    try:\n",
    "        crypto_df = yf.download(tickers, start=start_date, end=end_date, group_by='ticker')\n",
    "        break  # Exit loop if successful\n",
    "    except yf.YFRateLimitError:\n",
    "        print(f\"Rate limit reached. Retrying in 10 seconds... ({i+1}/{attempts})\")\n",
    "        time.sleep(10)\n",
    "else:\n",
    "    print(\"Failed to fetch data after multiple attempts.\")\n",
    "\n",
    "# Save to CSV\n",
    "crypto_df.to_csv(\"crypto_prices.csv\")\n",
    "\n",
    "print(crypto_df.head())  # Display first few rows"
   ],
   "id": "1fcac97eb6d4c117",
   "outputs": [
    {
     "name": "stderr",
     "output_type": "stream",
     "text": [
      "[*********************100%***********************]  9 of 9 completed\n",
      "\n",
      "9 Failed downloads:\n",
      "['SOL-USD', 'ADA-USD', 'XRP-USD', 'USDT-USD', 'ETH-USD', 'PEPE-USD', 'DOGE-USD', 'BTC-USD', 'DOT-USD']: YFRateLimitError('Too Many Requests. Rate limited. Try after a while.')\n"
     ]
    },
    {
     "name": "stdout",
     "output_type": "stream",
     "text": [
      "Empty DataFrame\n",
      "Columns: [(SOL-USD, Open), (SOL-USD, High), (SOL-USD, Low), (SOL-USD, Close), (SOL-USD, Adj Close), (SOL-USD, Volume), (ADA-USD, Open), (ADA-USD, High), (ADA-USD, Low), (ADA-USD, Close), (ADA-USD, Adj Close), (ADA-USD, Volume), (XRP-USD, Open), (XRP-USD, High), (XRP-USD, Low), (XRP-USD, Close), (XRP-USD, Adj Close), (XRP-USD, Volume), (USDT-USD, Open), (USDT-USD, High), (USDT-USD, Low), (USDT-USD, Close), (USDT-USD, Adj Close), (USDT-USD, Volume), (ETH-USD, Open), (ETH-USD, High), (ETH-USD, Low), (ETH-USD, Close), (ETH-USD, Adj Close), (ETH-USD, Volume), (PEPE-USD, Open), (PEPE-USD, High), (PEPE-USD, Low), (PEPE-USD, Close), (PEPE-USD, Adj Close), (PEPE-USD, Volume), (DOGE-USD, Open), (DOGE-USD, High), (DOGE-USD, Low), (DOGE-USD, Close), (DOGE-USD, Adj Close), (DOGE-USD, Volume), (BTC-USD, Open), (BTC-USD, High), (BTC-USD, Low), (BTC-USD, Close), (BTC-USD, Adj Close), (BTC-USD, Volume), (DOT-USD, Open), (DOT-USD, High), (DOT-USD, Low), (DOT-USD, Close), (DOT-USD, Adj Close), (DOT-USD, Volume)]\n",
      "Index: []\n",
      "\n",
      "[0 rows x 54 columns]\n"
     ]
    }
   ],
   "execution_count": 10
  },
  {
   "metadata": {},
   "cell_type": "code",
   "outputs": [],
   "execution_count": null,
   "source": "",
   "id": "1a9974fbd5a9c777"
  }
 ],
 "metadata": {
  "kernelspec": {
   "name": "python3",
   "language": "python",
   "display_name": "Python 3 (ipykernel)"
  }
 },
 "nbformat": 5,
 "nbformat_minor": 9
}
